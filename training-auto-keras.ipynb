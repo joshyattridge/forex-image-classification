{
  "cells": [
    {
      "attachments": {},
      "cell_type": "markdown",
      "metadata": {
        "id": "e1pykJRn0qKQ"
      },
      "source": [
        "# Import"
      ]
    },
    {
      "cell_type": "code",
      "execution_count": null,
      "metadata": {
        "colab": {
          "base_uri": "https://localhost:8080/"
        },
        "id": "PWnk6WoK0qKR",
        "outputId": "974683c6-cac2-4639-c34a-7a1f0ac75da0"
      },
      "outputs": [],
      "source": [
        "\n",
        "!python3 -m pip install tensorflow==2.13.0rc1\n",
        "!python3 -m pip install finta\n",
        "!python3 -m pip install -q --upgrade keras-nlp\n",
        "!python3 -m pip install numpy\n",
        "!python3 -m pip install pandas\n",
        "!python3 -m pip install matplotlib\n",
        "!python3 -m pip install plotly==5.3.1\n",
        "!python3 -m pip install opencv-python\n",
        "!python3 -m pip install -U kaleido\n",
        "!python3 -m pip install autokeras\n",
        "!python3 -m pip install keras-tuner\n"
      ]
    },
    {
      "cell_type": "code",
      "execution_count": null,
      "metadata": {
        "colab": {
          "base_uri": "https://localhost:8080/"
        },
        "id": "7o8k9T-80qKT",
        "outputId": "559a3f13-d333-402d-eafe-b32c8f0e0d4e"
      },
      "outputs": [],
      "source": [
        "import numpy as np\n",
        "import tensorflow as tf\n",
        "from tensorflow.keras.utils import CustomObjectScope\n",
        "from tensorflow.keras.models import load_model\n",
        "import keras_tuner\n",
        "import pandas as pd\n",
        "import time\n",
        "import matplotlib.pyplot as plt\n",
        "import plotly.graph_objects as go\n",
        "from PIL import Image\n",
        "import io\n",
        "from finta import TA\n",
        "import os\n",
        "import autokeras as ak\n",
        "try:\n",
        "    from google.colab import runtime\n",
        "except:\n",
        "    pass\n",
        "\n",
        "np.random.seed(0)\n",
        "tf.random.set_seed(0)\n",
        "\n",
        "print(tf.version.VERSION)\n",
        "print(ak.__version__)\n",
        "print(keras_tuner.__version__)"
      ]
    },
    {
      "attachments": {},
      "cell_type": "markdown",
      "metadata": {
        "id": "aiBJu2ly0qKW"
      },
      "source": [
        "# Gather Training Data\n",
        "classes:\n",
        "0 - no trend\n",
        "1 - short trend\n",
        "2 - long trend"
      ]
    },
    {
      "cell_type": "code",
      "execution_count": null,
      "metadata": {
        "colab": {
          "base_uri": "https://localhost:8080/"
        },
        "id": "kiTHUM_a0qKX",
        "outputId": "f15399b6-8a29-4a93-be04-9300d6e1338a"
      },
      "outputs": [],
      "source": [
        "batch_size = 32\n",
        "\n",
        "# import the training data as grey scale images\n",
        "train_data = ak.image_dataset_from_directory(\n",
        "    \"image_data/train/\",\n",
        "    subset=\"training\",\n",
        "    image_size=(200, 50),\n",
        "    batch_size=batch_size,\n",
        "    color_mode=\"grayscale\",\n",
        ")\n",
        "\n",
        "# reduce the training data to 100 images\n",
        "# train_data = train_data.take(100)\n",
        "\n",
        "# you cant just remove half of the data because then you wont get a realistic amount of wins and losses so you have to change the class_weight\n",
        "# count the number of images in each class\n",
        "win_count = len(os.listdir(\"image_data/train/win\"))\n",
        "loss_count = len(os.listdir(\"image_data/train/loss\"))\n",
        "total_count = win_count + loss_count\n",
        "# class_weight = {0: loss_count / total_count, 1: win_count / total_count}\n",
        "class_weight = {0: win_count / total_count, 1: loss_count / total_count}\n",
        "print(class_weight)\n",
        "\n",
        "test_data = ak.image_dataset_from_directory(\n",
        "    \"image_data/test/\",\n",
        "    subset=\"testing\",\n",
        "    image_size=(200, 50),\n",
        "    batch_size=batch_size,\n",
        "    color_mode=\"grayscale\",\n",
        ")\n"
      ]
    },
    {
      "attachments": {},
      "cell_type": "markdown",
      "metadata": {
        "id": "ahIlkQBR0qKY"
      },
      "source": [
        "# Classification"
      ]
    },
    {
      "cell_type": "code",
      "execution_count": null,
      "metadata": {
        "colab": {
          "base_uri": "https://localhost:8080/"
        },
        "id": "Xoixs3KV0qKa",
        "outputId": "b3d8eb3c-e23a-42e5-aab9-2b11d4f4a7dd"
      },
      "outputs": [],
      "source": [
        "# create a metric to calculate the win rate of the model, which is the accuracy of the predictions when the prediction is win\n",
        "\n",
        "def win_rate(y_true, y_pred):\n",
        "    # convert y_pred to 0 or 1\n",
        "    y_pred = tf.where(y_pred < 0.5, 0, 1)\n",
        "\n",
        "    # convert the values to float32\n",
        "    y_true = tf.cast(y_true, tf.float32)\n",
        "    y_pred = tf.cast(y_pred, tf.float32)\n",
        "    correct_count = tf.math.reduce_sum(tf.where(tf.math.logical_and(tf.math.equal(y_true, y_pred), tf.math.not_equal(y_pred, 0)), 1.0, 0.0))\n",
        "    total_count = tf.math.reduce_sum(tf.where(tf.math.not_equal(y_pred, 0), 1.0, 0.0))\n",
        "    win_rate = tf.math.divide_no_nan(correct_count, total_count)\n",
        "    return win_rate\n",
        "\n",
        "# create and train a model using auto keras\n",
        "clf = ak.ImageClassifier(\n",
        "    max_trials=5,\n",
        "    directory='drive/MyDrive/',\n",
        "    project_name='model',\n",
        "    metrics=['accuracy', win_rate],\n",
        "    objective=keras_tuner.Objective(\"val_win_rate\", direction=\"max\")\n",
        ")\n",
        "\n",
        "# train the model\n",
        "history = clf.fit(\n",
        "    train_data,\n",
        "    epochs=1000,\n",
        "    validation_data=test_data,\n",
        "    callbacks=[tf.keras.callbacks.EarlyStopping(monitor='val_win_rate', patience=10, mode='max', restore_best_weights=True)],\n",
        "    class_weight=class_weight,\n",
        ")\n",
        "\n",
        "# plot the loss\n",
        "plt.plot(history.history['loss'])\n",
        "if 'val_loss' in history.history:\n",
        "    plt.plot(history.history['val_loss'])\n",
        "plt.title('model loss')\n",
        "plt.ylabel('loss')\n",
        "plt.xlabel('epoch')\n",
        "plt.legend(['train', 'validation'], loc='upper left')\n",
        "plt.show()\n",
        "# save\n",
        "plt.savefig('drive/MyDrive/loss.png', format='png')\n",
        "\n",
        "# accuracy\n",
        "plt.plot(history.history['accuracy'])\n",
        "if 'val_accuracy' in history.history:\n",
        "    plt.plot(history.history['val_accuracy'])\n",
        "plt.title('model accuracy')\n",
        "plt.ylabel('accuracy')\n",
        "plt.xlabel('epoch')\n",
        "plt.legend(['train', 'validation'], loc='upper left')\n",
        "plt.show()\n",
        "# save\n",
        "plt.savefig('drive/MyDrive/accuracy.png', format='png')\n",
        "\n",
        "# win rate\n",
        "plt.plot(history.history['win_rate'])\n",
        "if 'val_win_rate' in history.history:\n",
        "    plt.plot(history.history['val_win_rate'])\n",
        "plt.title('model win rate')\n",
        "plt.ylabel('win rate')\n",
        "plt.xlabel('epoch')\n",
        "plt.legend(['train', 'validation'], loc='upper left')\n",
        "plt.show()\n",
        "# save\n",
        "plt.savefig('drive/MyDrive/win_rate.png', format='png')\n",
        "\n",
        "with CustomObjectScope({'win_rate': win_rate}):\n",
        "    model = clf.export_model()\n",
        "\n",
        "try:\n",
        "    model.save(\"drive/MyDrive/model_autokeras\", save_format=\"tf\")\n",
        "except Exception:\n",
        "    model.save(\"drive/MyDrive/model_autokeras.h5\")\n",
        "\n"
      ]
    },
    {
      "attachments": {},
      "cell_type": "markdown",
      "metadata": {
        "id": "u378jnbT0qKb"
      },
      "source": [
        "# Test the model"
      ]
    },
    {
      "cell_type": "code",
      "execution_count": null,
      "metadata": {
        "id": "LEEJ6myH0qKb"
      },
      "outputs": [],
      "source": [
        "model = load_model(\"drive/MyDrive/model_autokeras\", custom_objects={'win_rate': win_rate})\n",
        "\n",
        "test_data = []\n",
        "test_results = []\n",
        "\n",
        "# for each file in image_data/test/loss, add the image to test_data and add 0 to test_results, make sure the image is 200x50 and grey scale\n",
        "for file in os.listdir(\"image_data/test/loss\"):\n",
        "    # if the file is png\n",
        "    if file[-4:] == \".png\":\n",
        "        image = Image.open(\"image_data/test/loss/\" + file)\n",
        "        image = image.resize((50, 200))\n",
        "        image = image.convert('L')\n",
        "        image = np.array(image)\n",
        "        test_data.append(image)\n",
        "        test_results.append(0)\n",
        "\n",
        "# for each file in image_data/test/win, add the image to test_data and add 1 to test_results, make sure the image is 200x50 and grey scale\n",
        "for file in os.listdir(\"image_data/test/win\"):\n",
        "    # if the file is png\n",
        "    if file[-4:] == \".png\":\n",
        "        image = Image.open(\"image_data/test/win/\" + file)\n",
        "        image = image.resize((50, 200))\n",
        "        image = image.convert('L')\n",
        "        image = np.array(image)\n",
        "        test_data.append(image)\n",
        "        test_results.append(1)\n",
        "\n",
        "test_data = np.array(test_data)\n",
        "test_results = np.array(test_results)\n",
        "\n",
        "# predict the results\n",
        "predictions = model.predict(test_data)\n",
        "\n",
        "# convert the predictions to 0 or 1\n",
        "overall_predictions = np.where(predictions < 0.5, 0, 1).reshape(-1)\n",
        "\n",
        "# calculate the accuracy\n",
        "accuracy = np.sum(overall_predictions == test_results) / len(test_results)\n",
        "\n",
        "# calculate the win rate\n",
        "win_rate = np.sum(np.logical_and(overall_predictions == test_results, overall_predictions != 0)) / np.sum(overall_predictions != 0)\n",
        "\n",
        "print(\"accuracy:\", accuracy)\n",
        "win_confidence_tracker = []\n",
        "loss_confidence_tracker = []\n",
        "# for each prediction, if the prediction is correct, add the confidence to win_confidence_tracker, else add the confidence to loss_confidence_tracker\n",
        "for i in range(len(predictions)):\n",
        "    confidence = ((0.5-predictions[i][0]) * 2) if overall_predictions[i] == 0 else ((predictions[i][0]-0.5) * 2)\n",
        "    if overall_predictions[i] == test_results[i]:\n",
        "        win_confidence_tracker.append(confidence)\n",
        "    else:\n",
        "        loss_confidence_tracker.append(confidence)\n",
        "plt.clf()\n",
        "plt.hist(win_confidence_tracker, bins=100, alpha=0.5, label='Correct')\n",
        "plt.hist(loss_confidence_tracker, bins=100, alpha=0.5, label='Incorrect')\n",
        "plt.legend(loc='upper right')\n",
        "plt.savefig(\"drive/MyDrive/model_accuracy_confidence.png\", format='png')\n",
        "plt.show()\n",
        "\n",
        "print(\"win rate:\", win_rate)\n",
        "win_confidence_tracker = []\n",
        "loss_confidence_tracker = []\n",
        "# for each prediction, if the prediction is correct, add the confidence to win_confidence_tracker, else add the confidence to loss_confidence_tracker\n",
        "for i in range(len(predictions)):\n",
        "    if overall_predictions[i] != 0:\n",
        "        confidence = ((0.5-predictions[i][0]) * 2) if overall_predictions[i] == 0 else ((predictions[i][0]-0.5) * 2)\n",
        "        if overall_predictions[i] == test_results[i]:\n",
        "            win_confidence_tracker.append(confidence)\n",
        "        else:\n",
        "            loss_confidence_tracker.append(confidence)\n",
        "plt.clf()\n",
        "plt.hist(win_confidence_tracker, bins=100, alpha=0.5, label='Correct')\n",
        "plt.hist(loss_confidence_tracker, bins=100, alpha=0.5, label='Incorrect')\n",
        "plt.legend(loc='upper right')\n",
        "# write plot to file\n",
        "plt.savefig(\"drive/MyDrive/model_winrate_confidence.png\", format='png')\n",
        "plt.show()\n"
      ]
    },
    {
      "attachments": {},
      "cell_type": "markdown",
      "metadata": {},
      "source": [
        "# Google colab support"
      ]
    },
    {
      "cell_type": "code",
      "execution_count": null,
      "metadata": {},
      "outputs": [],
      "source": [
        "runtime.unassign()"
      ]
    },
    {
      "cell_type": "code",
      "execution_count": null,
      "metadata": {},
      "outputs": [],
      "source": [
        "from google.colab import drive\n",
        "drive.mount('/content/drive')"
      ]
    },
    {
      "cell_type": "code",
      "execution_count": null,
      "metadata": {},
      "outputs": [],
      "source": [
        "import zipfile\n",
        "with zipfile.ZipFile('drive/MyDrive/image_data.zip', 'r') as zip_ref:\n",
        "    zip_ref.extractall(\"\")"
      ]
    }
  ],
  "metadata": {
    "accelerator": "GPU",
    "colab": {
      "provenance": []
    },
    "gpuClass": "standard",
    "kernelspec": {
      "display_name": "Python 3.9.7 64-bit",
      "language": "python",
      "name": "python3"
    },
    "language_info": {
      "codemirror_mode": {
        "name": "ipython",
        "version": 3
      },
      "file_extension": ".py",
      "mimetype": "text/x-python",
      "name": "python",
      "nbconvert_exporter": "python",
      "pygments_lexer": "ipython3",
      "version": "3.9.6"
    },
    "orig_nbformat": 4,
    "vscode": {
      "interpreter": {
        "hash": "aee8b7b246df8f9039afb4144a1f6fd8d2ca17a180786b69acc140d282b71a49"
      }
    }
  },
  "nbformat": 4,
  "nbformat_minor": 0
}
