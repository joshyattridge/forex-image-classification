{
  "cells": [
    {
      "attachments": {},
      "cell_type": "markdown",
      "metadata": {
        "id": "e1pykJRn0qKQ"
      },
      "source": [
        "# Import"
      ]
    },
    {
      "cell_type": "code",
      "execution_count": null,
      "metadata": {
        "colab": {
          "base_uri": "https://localhost:8080/"
        },
        "id": "PWnk6WoK0qKR",
        "outputId": "974683c6-cac2-4639-c34a-7a1f0ac75da0"
      },
      "outputs": [],
      "source": [
        "\n",
        "!python3 -m pip install tensorflow==2.13.0rc1\n",
        "!python3 -m pip install finta\n",
        "!python3 -m pip install -q --upgrade keras-nlp\n",
        "!python3 -m pip install numpy\n",
        "!python3 -m pip install pandas\n",
        "!python3 -m pip install matplotlib\n",
        "!python3 -m pip install plotly==5.3.1\n",
        "!python3 -m pip install opencv-python\n",
        "!python3 -m pip install -U kaleido\n",
        "!python3 -m pip install autokeras\n",
        "!python3 -m pip install keras-tuner"
      ]
    },
    {
      "cell_type": "code",
      "execution_count": null,
      "metadata": {
        "colab": {
          "base_uri": "https://localhost:8080/"
        },
        "id": "7o8k9T-80qKT",
        "outputId": "559a3f13-d333-402d-eafe-b32c8f0e0d4e"
      },
      "outputs": [],
      "source": [
        "import numpy as np\n",
        "import tensorflow as tf\n",
        "from tensorflow.keras.utils import CustomObjectScope\n",
        "from tensorflow.keras.models import load_model\n",
        "import keras_tuner\n",
        "import pandas as pd\n",
        "import time\n",
        "import matplotlib.pyplot as plt\n",
        "import plotly.graph_objects as go\n",
        "from PIL import Image\n",
        "import io\n",
        "from finta import TA\n",
        "import os\n",
        "import autokeras as ak\n",
        "try:\n",
        "    from google.colab import runtime, drive\n",
        "    # if the folder /content/drive does not exist, mount Google Drive\n",
        "    if not os.path.exists('/content/drive'):\n",
        "        drive.mount('/content/drive')\n",
        "        import zipfile\n",
        "        with zipfile.ZipFile(model_location + '/image_data.zip', 'r') as zip_ref:\n",
        "            zip_ref.extractall(\"\")\n",
        "    model_location = model_location + '/'\n",
        "except:\n",
        "    model_location = ''\n",
        "\n",
        "np.random.seed(0)\n",
        "tf.random.set_seed(0)\n",
        "\n",
        "print(tf.version.VERSION)\n",
        "print(ak.__version__)\n",
        "print(keras_tuner.__version__)"
      ]
    },
    {
      "attachments": {},
      "cell_type": "markdown",
      "metadata": {
        "id": "aiBJu2ly0qKW"
      },
      "source": [
        "# Gather Training Data\n",
        "classes:\n",
        "0 - no trend\n",
        "1 - short trend\n",
        "2 - long trend"
      ]
    },
    {
      "cell_type": "code",
      "execution_count": null,
      "metadata": {
        "colab": {
          "base_uri": "https://localhost:8080/"
        },
        "id": "kiTHUM_a0qKX",
        "outputId": "f15399b6-8a29-4a93-be04-9300d6e1338a"
      },
      "outputs": [],
      "source": [
        "batch_size = 32\n",
        "\n",
        "# import the training data as grey scale images\n",
        "train_data = ak.image_dataset_from_directory(\n",
        "    \"image_data/train/\",\n",
        "    subset=\"training\",\n",
        "    image_size=(200, 50),\n",
        "    batch_size=batch_size,\n",
        "    color_mode=\"grayscale\",\n",
        ")\n",
        "\n",
        "# you cant just remove half of the data because then you wont get a realistic amount of wins and losses so you have to change the class_weight\n",
        "# count the number of images in each class\n",
        "loss_count = len(os.listdir(\"image_data/train/loss\"))\n",
        "win_count = len(os.listdir(\"image_data/train/win\"))\n",
        "total_count = win_count + loss_count\n",
        "class_weight = {0: win_count / total_count, 1: loss_count / total_count}\n",
        "# give the win class 2x more weight because it is more important to classify the wins correctly\n",
        "class_weight = {0: class_weight[0], 1: class_weight[1] * 2}\n",
        "print(class_weight)\n",
        "\n",
        "test_data = ak.image_dataset_from_directory(\n",
        "    \"image_data/test/\",\n",
        "    subset=\"testing\",\n",
        "    image_size=(200, 50),\n",
        "    batch_size=batch_size,\n",
        "    color_mode=\"grayscale\",\n",
        ")"
      ]
    },
    {
      "cell_type": "markdown",
      "metadata": {},
      "source": [
        "## create metrics"
      ]
    },
    {
      "cell_type": "code",
      "execution_count": null,
      "metadata": {},
      "outputs": [],
      "source": [
        "def win_rate(y_true, y_pred):\n",
        "\n",
        "    # convert y_pred to 0 or 1\n",
        "    y_pred = tf.where(y_pred < 0.5, 0, 1)\n",
        "\n",
        "    # convert the values to float32\n",
        "    y_true = tf.cast(y_true, tf.float32)\n",
        "    y_pred = tf.cast(y_pred, tf.float32)\n",
        "    correct_count = tf.math.reduce_sum(tf.where(tf.math.logical_and(tf.math.equal(y_true, y_pred), tf.math.not_equal(y_pred, 0)), 1.0, 0.0))\n",
        "    total_count = tf.math.reduce_sum(tf.where(tf.math.not_equal(y_pred, 0), 1.0, 0.0))\n",
        "    win_rate = tf.math.divide_no_nan(correct_count, total_count)\n",
        "    return win_rate"
      ]
    },
    {
      "attachments": {},
      "cell_type": "markdown",
      "metadata": {
        "id": "ahIlkQBR0qKY"
      },
      "source": [
        "# Classification"
      ]
    },
    {
      "cell_type": "code",
      "execution_count": null,
      "metadata": {
        "colab": {
          "base_uri": "https://localhost:8080/"
        },
        "id": "Xoixs3KV0qKa",
        "outputId": "b3d8eb3c-e23a-42e5-aab9-2b11d4f4a7dd"
      },
      "outputs": [],
      "source": [
        "# create and train a model using auto keras\n",
        "clf = ak.ImageClassifier(\n",
        "    max_trials=5,\n",
        "    directory=model_location,\n",
        "    project_name='forex_ml_model',\n",
        "    metrics=['accuracy', win_rate],\n",
        "    objective=keras_tuner.Objective(\"val_win_rate\", direction=\"max\")\n",
        ")\n",
        "\n",
        "# train the model\n",
        "history = clf.fit(\n",
        "    train_data,\n",
        "    epochs=1000,\n",
        "    validation_data=test_data,\n",
        "    callbacks=[tf.keras.callbacks.EarlyStopping(monitor='val_loss', patience=10, mode='min', restore_best_weights=True)],\n",
        "    class_weight=class_weight,\n",
        ")\n",
        "\n",
        "# plot the loss\n",
        "plt.plot(history.history['loss'])\n",
        "if 'val_loss' in history.history:\n",
        "    plt.plot(history.history['val_loss'])\n",
        "plt.title('model loss')\n",
        "plt.ylabel('loss')\n",
        "plt.xlabel('epoch')\n",
        "plt.legend(['train', 'validation'], loc='upper left')\n",
        "plt.show()\n",
        "# save\n",
        "plt.savefig(model_location + '/loss.png', format='png')\n",
        "\n",
        "# accuracy\n",
        "plt.plot(history.history['accuracy'])\n",
        "if 'val_accuracy' in history.history:\n",
        "    plt.plot(history.history['val_accuracy'])\n",
        "plt.title('model accuracy')\n",
        "plt.ylabel('accuracy')\n",
        "plt.xlabel('epoch')\n",
        "plt.legend(['train', 'validation'], loc='upper left')\n",
        "plt.show()\n",
        "# save\n",
        "plt.savefig(model_location + '/accuracy.png', format='png')\n",
        "\n",
        "# win rate\n",
        "plt.plot(history.history['win_rate'])\n",
        "if 'val_win_rate' in history.history:\n",
        "    plt.plot(history.history['val_win_rate'])\n",
        "plt.title('model win rate')\n",
        "plt.ylabel('win rate')\n",
        "plt.xlabel('epoch')\n",
        "plt.legend(['train', 'validation'], loc='upper left')\n",
        "plt.show()\n",
        "# save\n",
        "plt.savefig(model_location + '/win_rate.png', format='png')\n"
      ]
    },
    {
      "attachments": {},
      "cell_type": "markdown",
      "metadata": {},
      "source": [
        "# End Colab runtime"
      ]
    },
    {
      "cell_type": "code",
      "execution_count": null,
      "metadata": {},
      "outputs": [],
      "source": [
        "runtime.unassign()"
      ]
    }
  ],
  "metadata": {
    "accelerator": "GPU",
    "colab": {
      "provenance": []
    },
    "gpuClass": "standard",
    "kernelspec": {
      "display_name": "Python 3.9.7 64-bit",
      "language": "python",
      "name": "python3"
    },
    "language_info": {
      "codemirror_mode": {
        "name": "ipython",
        "version": 3
      },
      "file_extension": ".py",
      "mimetype": "text/x-python",
      "name": "python",
      "nbconvert_exporter": "python",
      "pygments_lexer": "ipython3",
      "version": "3.9.7"
    },
    "orig_nbformat": 4,
    "vscode": {
      "interpreter": {
        "hash": "aee8b7b246df8f9039afb4144a1f6fd8d2ca17a180786b69acc140d282b71a49"
      }
    }
  },
  "nbformat": 4,
  "nbformat_minor": 0
}
